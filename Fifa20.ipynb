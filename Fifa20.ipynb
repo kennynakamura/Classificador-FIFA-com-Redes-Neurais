{
  "nbformat": 4,
  "nbformat_minor": 0,
  "metadata": {
    "colab": {
      "name": "Fifa20.ipynb",
      "provenance": [],
      "collapsed_sections": [],
      "authorship_tag": "ABX9TyOPbLb2CV3yfQi70VbCEl8w",
      "include_colab_link": true
    },
    "kernelspec": {
      "name": "python3",
      "display_name": "Python 3"
    }
  },
  "cells": [
    {
      "cell_type": "markdown",
      "metadata": {
        "id": "view-in-github",
        "colab_type": "text"
      },
      "source": [
        "<a href=\"https://colab.research.google.com/github/kennynakamura/RedesNeurais/blob/master/Fifa20.ipynb\" target=\"_parent\"><img src=\"https://colab.research.google.com/assets/colab-badge.svg\" alt=\"Open In Colab\"/></a>"
      ]
    },
    {
      "cell_type": "markdown",
      "metadata": {
        "id": "iACG7NK6kl1M",
        "colab_type": "text"
      },
      "source": [
        "## **Rede Neural para classificação de posição de jogador do FIFA baseado em seus atributos físicos**\n",
        "\n",
        "Foram usados os atributos \"age\",\"height_cm\",\"weight_kg\",\"overall\",\"weak_foot\",\"skill_moves\",\"shooting\",\"passing\",\"dribbling\",\"defending\",\"physic\".\n",
        "\n",
        "A rede neural possui uma taxa de acerto de 95% para o dataset modificado que apresenta 5 posições possíveis; Goleiro, zagueiro, volante, meia e atacante.\n"
      ]
    },
    {
      "cell_type": "code",
      "metadata": {
        "id": "JVFHdPshnzZO",
        "colab_type": "code",
        "colab": {}
      },
      "source": [
        "import pandas as pd\n",
        "from keras.models import Sequential\n",
        "from keras.layers import Dense, Dropout\n",
        "from keras.utils import np_utils\n",
        "\n",
        "base = pd.read_csv('/content/dataset_fifamod.csv')\n",
        "previsores = base.iloc[:, 0:11].values\n",
        "classe = base.iloc[:, 11].values"
      ],
      "execution_count": 0,
      "outputs": []
    },
    {
      "cell_type": "code",
      "metadata": {
        "id": "JHPPjpCIEUMB",
        "colab_type": "code",
        "colab": {
          "base_uri": "https://localhost:8080/",
          "height": 34
        },
        "outputId": "d134da53-72ab-4675-e9a7-4aedfd6b90af"
      },
      "source": [
        "print(base.shape)"
      ],
      "execution_count": 17,
      "outputs": [
        {
          "output_type": "stream",
          "text": [
            "(18278, 12)\n"
          ],
          "name": "stdout"
        }
      ]
    },
    {
      "cell_type": "markdown",
      "metadata": {
        "id": "Ik1rjUDzlqJV",
        "colab_type": "text"
      },
      "source": [
        "base.describe é uma função interessante que descreve com vários aspectos o dataset usado"
      ]
    },
    {
      "cell_type": "code",
      "metadata": {
        "id": "4oykzTq2Hu9y",
        "colab_type": "code",
        "colab": {}
      },
      "source": [
        "print(base.describe())"
      ],
      "execution_count": 0,
      "outputs": []
    },
    {
      "cell_type": "markdown",
      "metadata": {
        "id": "FGtKIDLRl2tF",
        "colab_type": "text"
      },
      "source": [
        "Imprimi a quantidade de jogadores cada posição"
      ]
    },
    {
      "cell_type": "code",
      "metadata": {
        "id": "t-vb3U-PH6bE",
        "colab_type": "code",
        "colab": {
          "base_uri": "https://localhost:8080/",
          "height": 136
        },
        "outputId": "019bd8d5-71d6-4c2d-8a23-0373b2cebef7"
      },
      "source": [
        "print(base.groupby('player_positions').size())"
      ],
      "execution_count": 20,
      "outputs": [
        {
          "output_type": "stream",
          "text": [
            "player_positions\n",
            "ATACANTE    2695\n",
            "GOLEIRO     2036\n",
            "MEIA        4245\n",
            "VOLANTE     3523\n",
            "ZAGUEIRO    5779\n",
            "dtype: int64\n"
          ],
          "name": "stdout"
        }
      ]
    },
    {
      "cell_type": "code",
      "metadata": {
        "id": "etNnMIF7KpHD",
        "colab_type": "code",
        "colab": {}
      },
      "source": [
        "classe = classe.reshape(-1,1)"
      ],
      "execution_count": 0,
      "outputs": []
    },
    {
      "cell_type": "code",
      "metadata": {
        "id": "DtykHC4vCeuT",
        "colab_type": "code",
        "colab": {}
      },
      "source": [
        "from sklearn.preprocessing import LabelEncoder\n",
        "labelencoder = LabelEncoder()\n",
        "classe = labelencoder.fit_transform(classe)\n",
        "classe_dummy = np_utils.to_categorical(classe)"
      ],
      "execution_count": 0,
      "outputs": []
    },
    {
      "cell_type": "code",
      "metadata": {
        "id": "HU34Jvk-K7pB",
        "colab_type": "code",
        "colab": {}
      },
      "source": [
        "print(classe_dummy)"
      ],
      "execution_count": 0,
      "outputs": []
    },
    {
      "cell_type": "code",
      "metadata": {
        "id": "Pa6f8IgRBJcu",
        "colab_type": "code",
        "colab": {}
      },
      "source": [
        "from sklearn.model_selection import train_test_split\n",
        "previsores_treinamento, previsores_teste, classe_treinamento, classe_teste = train_test_split(previsores, classe_dummy, test_size=0.25)\n",
        "\n",
        "classificador = Sequential()\n",
        "classificador.add(Dense(units = 300, activation = 'relu', input_dim = 11))\n",
        "classificador.add(Dense(units = 300, activation = 'relu'))\n",
        "classificador.add(Dense(units = 5, activation = 'softmax'))\n",
        "classificador.compile(optimizer = 'adam', loss = 'categorical_crossentropy',\n",
        "                      metrics = ['categorical_accuracy'])\n",
        "classificador.fit(previsores_treinamento, classe_treinamento, batch_size = 300,\n",
        "                  epochs = 1000)"
      ],
      "execution_count": 0,
      "outputs": []
    },
    {
      "cell_type": "code",
      "metadata": {
        "id": "1IP83MBRO-v5",
        "colab_type": "code",
        "colab": {}
      },
      "source": [
        "resultado = classificador.evaluate(previsores_teste, classe_teste)"
      ],
      "execution_count": 0,
      "outputs": []
    },
    {
      "cell_type": "code",
      "metadata": {
        "id": "yc9CKWSSUkeN",
        "colab_type": "code",
        "outputId": "936edcea-5f50-4d5f-81cb-638f565258ca",
        "colab": {
          "base_uri": "https://localhost:8080/",
          "height": 51
        }
      },
      "source": [
        "\n",
        "#Classificador com dados do Marcelo\n",
        "\n",
        "import numpy as np\n",
        "novo = np.array([[30,174,80,88,4,5,71,83,90,81,82]])\n",
        "previsao = classificador.predict(novo)\n",
        "previsao"
      ],
      "execution_count": 15,
      "outputs": [
        {
          "output_type": "execute_result",
          "data": {
            "text/plain": [
              "array([[0.0000000e+00, 2.6594735e-37, 5.8376831e-06, 3.9486389e-07,\n",
              "        9.9999380e-01]], dtype=float32)"
            ]
          },
          "metadata": {
            "tags": []
          },
          "execution_count": 15
        }
      ]
    },
    {
      "cell_type": "code",
      "metadata": {
        "id": "9H4Yzrm0ALqg",
        "colab_type": "code",
        "outputId": "2749403a-f3eb-4f7d-a378-e02557e046b5",
        "colab": {
          "base_uri": "https://localhost:8080/",
          "height": 51
        }
      },
      "source": [
        "cl = np.argmax(previsao)\n",
        "print(cl)\n",
        "list = [\"Atacante\",\"Goleiro\",\"Meia\",\"Volante\",\"Zagueiro\"]\n",
        "list[cl]"
      ],
      "execution_count": 16,
      "outputs": [
        {
          "output_type": "stream",
          "text": [
            "4\n"
          ],
          "name": "stdout"
        },
        {
          "output_type": "execute_result",
          "data": {
            "text/plain": [
              "'Zagueiro'"
            ]
          },
          "metadata": {
            "tags": []
          },
          "execution_count": 16
        }
      ]
    },
    {
      "cell_type": "markdown",
      "metadata": {
        "id": "S2MBhitWmW2p",
        "colab_type": "text"
      },
      "source": [
        "Para testar a rede neural com dados do FIFA 19. A seguir existe um codigo que acesso o dataset do FIFA 19 e mostra os 50 melhores jogadores"
      ]
    },
    {
      "cell_type": "code",
      "metadata": {
        "id": "MLzz0jeqfQU1",
        "colab_type": "code",
        "colab": {}
      },
      "source": [
        "import pandas as pd\n",
        "col_list = [\"short_name\"]\n",
        "dd = pd.read_csv(\"/content/players_19.csv\", usecols=col_list)\n",
        "pd.options.display.max_rows\n",
        "print(dd.iloc[:50])"
      ],
      "execution_count": 0,
      "outputs": []
    },
    {
      "cell_type": "markdown",
      "metadata": {
        "id": "sJ6Ogq2Vmf3E",
        "colab_type": "text"
      },
      "source": [
        "Por possuir nomes específicos para acesso dos dados, é preciso digitar o nome exatamente como está disponível no dataset."
      ]
    },
    {
      "cell_type": "code",
      "metadata": {
        "id": "AteBuJxUfMe2",
        "colab_type": "code",
        "colab": {}
      },
      "source": [
        "import pandas as pd\n",
        "col_list = [\"short_name\",\"age\",\"height_cm\",\"weight_kg\",\"overall\",\"weak_foot\",\"skill_moves\",\"shooting\",\"passing\",\"dribbling\",\"defending\",\"physic\"]\n",
        "df = pd.read_csv(\"/content/players_19.csv\", usecols=col_list)\n",
        "pd.set_option('display.max_columns', df.shape[0]+1)\n",
        "especial = df.loc[df[\"short_name\"] == \"Marcelo\"]\n",
        "print(especial)\n"
      ],
      "execution_count": 0,
      "outputs": []
    }
  ]
}